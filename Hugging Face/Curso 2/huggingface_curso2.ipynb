{
 "cells": [
  {
   "cell_type": "code",
   "execution_count": 1,
   "id": "610dcd44-0975-4d3b-afdf-d6750e18a155",
   "metadata": {},
   "outputs": [
    {
     "name": "stdout",
     "output_type": "stream",
     "text": [
      "WARNING:tensorflow:From C:\\Users\\Pichau\\AppData\\Local\\Programs\\Python\\Python311\\Lib\\site-packages\\keras\\src\\losses.py:2976: The name tf.losses.sparse_softmax_cross_entropy is deprecated. Please use tf.compat.v1.losses.sparse_softmax_cross_entropy instead.\n",
      "\n"
     ]
    }
   ],
   "source": [
    "from transformers import pipeline"
   ]
  },
  {
   "cell_type": "code",
   "execution_count": 2,
   "id": "8e380451-386d-412e-971f-f393b2988af5",
   "metadata": {},
   "outputs": [
    {
     "name": "stderr",
     "output_type": "stream",
     "text": [
      "No model was supplied, defaulted to sshleifer/distilbart-cnn-12-6 and revision a4f8f3e (https://huggingface.co/sshleifer/distilbart-cnn-12-6).\n",
      "Using a pipeline without specifying a model name and revision in production is not recommended.\n",
      "C:\\Users\\Pichau\\AppData\\Local\\Programs\\Python\\Python311\\Lib\\site-packages\\huggingface_hub\\file_download.py:797: FutureWarning: `resume_download` is deprecated and will be removed in version 1.0.0. Downloads always resume when possible. If you want to force a new download, use `force_download=True`.\n",
      "  warnings.warn(\n"
     ]
    }
   ],
   "source": [
    "resumidor_texto = pipeline(\"summarization\")"
   ]
  },
  {
   "cell_type": "code",
   "execution_count": 3,
   "id": "535a0e7a-5a8c-443b-b378-5d99bdc19f48",
   "metadata": {},
   "outputs": [],
   "source": [
    "texto_exemplo = \"\"\"\n",
    "A inteligência artificial (IA) é uma área da ciência da computação que enfatiza a criação de máquinas inteligentes que trabalham e reagem como seres humanos.\n",
    "Algumas das atividades que os computadores com inteligência artificial são\n",
    "projetados para fazer incluem: reconhecimento de fala, aprendizado, planejamento e resolução de problemas. A pesquisa associada à inteligência artificial é altamente técnica e especializada.Os principais problemas da inteligência artificial incluem programação de computadores para certos traços como conhecimento,\n",
    "raciocínio, solução de problemas, percepção, aprendizado, planejamento, habilidade\n",
    "de manipular e mover objetos.\n",
    "\"\"\""
   ]
  },
  {
   "cell_type": "code",
   "execution_count": 4,
   "id": "e5d70866-bc11-4deb-b150-86dfda94366d",
   "metadata": {},
   "outputs": [
    {
     "data": {
      "text/plain": [
       "[{'summary_text': ' A pesquisa associada to inteligência artificial is altamente técnica e especializada . The IAI enfatiza a criação de máquinas inteligentes that trabalham e reagem como seres humanos . Algumas das atividades que computadores com IAI sãoprojetados para fazer incluem: reconhecimento de fala, aprendizado, planejamento e resolução of problemas'}]"
      ]
     },
     "execution_count": 4,
     "metadata": {},
     "output_type": "execute_result"
    }
   ],
   "source": [
    "resumo = resumidor_texto( texto_exemplo, max_length = 120, min_length = 70 )\n",
    "resumo"
   ]
  },
  {
   "cell_type": "code",
   "execution_count": 5,
   "id": "d60903c3-add4-4440-b358-81c0020b8409",
   "metadata": {},
   "outputs": [],
   "source": [
    "texto_ingles = \"\"\"\n",
    "Artificial intelligence (AI) is a field of computer science that emphasizes the\n",
    "creation of intelligent machines that work and react like humans. Some of the\n",
    "activities that computers with artificial intelligence are designed to perform\n",
    "include speech recognition, learning, planning, and problem-solving. Research\n",
    "associated with artificial intelligence is highly technical and specialized.\n",
    "The main problems of artificial intelligence include programming computers for\n",
    "certain traits such as knowledge, reasoning, problem-solving, perception,\n",
    "learning, planning, and the ability to manipulate and move objects.\n",
    "\"\"\""
   ]
  },
  {
   "cell_type": "code",
   "execution_count": 6,
   "id": "8842fdc8-0c2e-4c78-aa30-60d7dcf400f7",
   "metadata": {},
   "outputs": [
    {
     "name": "stderr",
     "output_type": "stream",
     "text": [
      "Your max_length is set to 120, but your input_length is only 115. Since this is a summarization task, where outputs shorter than the input are typically wanted, you might consider decreasing max_length manually, e.g. summarizer('...', max_length=57)\n"
     ]
    },
    {
     "data": {
      "text/plain": [
       "[{'summary_text': ' Artificial intelligence (AI) is a field of computer science that emphasizes the creation of intelligent machines that work and react like humans . The main problems of artificial intelligence include programming computers for certain traits such as knowledge, reasoning, problem-solving, perception, learning, planning, and the ability to manipulate and move objects . Research with artificial intelligence is highly technical and specialized .'}]"
      ]
     },
     "execution_count": 6,
     "metadata": {},
     "output_type": "execute_result"
    }
   ],
   "source": [
    "resumo_ingles = resumidor_texto( texto_ingles, max_length = 120, min_length = 70 )\n",
    "resumo_ingles"
   ]
  },
  {
   "cell_type": "markdown",
   "id": "1438d4e0-7ef1-4a29-a8b1-b63ef9ae3b70",
   "metadata": {},
   "source": [
    "# Escolhendo o modelo"
   ]
  },
  {
   "cell_type": "code",
   "execution_count": 7,
   "id": "22cf02c6-4ef1-4bfb-baf1-702e4b68ded9",
   "metadata": {},
   "outputs": [],
   "source": [
    "modelo_resumo = \"facebook/bart-large-cnn\""
   ]
  },
  {
   "cell_type": "code",
   "execution_count": 8,
   "id": "912f5644-d788-4544-aa78-b1101457ed10",
   "metadata": {},
   "outputs": [],
   "source": [
    "resumidor_eng = pipeline(\"summarization\", model = modelo_resumo)"
   ]
  },
  {
   "cell_type": "code",
   "execution_count": 9,
   "id": "1ad5582c-b120-4cc4-beb9-145ba829fda3",
   "metadata": {},
   "outputs": [],
   "source": [
    "texto_classificacao = \"\"\"\n",
    "Classification in machine learning involves assigning labels to input data based on its features and is fundamental in applications like spam detection, medical diagnosis, and image categorization. The process includes data collection and preparation, feature selection, choosing an algorithm (such as logistic regression, decision trees, SVM, k-NN, or neural networks), training, evaluation, hyperparameter tuning, and deployment. Despite its power, classification faces challenges like imbalanced datasets, ensuring model generalization, and handling noisy data. Successful classification models require careful handling of these steps and challenges to effectively solve real-world problems.\n",
    "\"\"\""
   ]
  },
  {
   "cell_type": "code",
   "execution_count": 10,
   "id": "41780cd6-1b03-45c9-8c8f-4314ed1d43db",
   "metadata": {},
   "outputs": [
    {
     "data": {
      "text/plain": [
       "[{'summary_text': 'Classification in machine learning involves assigning labels to input data based on its features. Despite its power, classification faces challenges like imbalanced datasets. Successful classification models require careful handling of these steps.'}]"
      ]
     },
     "execution_count": 10,
     "metadata": {},
     "output_type": "execute_result"
    }
   ],
   "source": [
    "resumo = resumidor_eng(texto_classificacao, max_length=70, min_length=30)\n",
    "resumo"
   ]
  },
  {
   "cell_type": "code",
   "execution_count": 13,
   "id": "53176c2c-bd03-46a4-a562-16be49fc1a4e",
   "metadata": {},
   "outputs": [],
   "source": [
    "texto_powerbi_en = \"\"\"\n",
    "Power BI is a data analysis and reporting tool developed by Microsoft. Its main function is to transform raw data into interactive and understandable visual information. Power BI is widely used by companies of all sizes to improve decision-making and business strategies.\n",
    "One of the main attractions of Power BI is its ability to integrate with a variety of data sources, such as SQL databases, Excel files, cloud services like Azure and Google Analytics, among others. This allows users to centralize all their data on a single platform, facilitating analysis and information sharing.\n",
    "Power BI is composed of three main components: Power BI Desktop, Power BI Service, and Power BI Mobile. Power BI Desktop is a desktop application that allows users to create detailed reports and dashboards. Power BI Service is an online platform where reports and dashboards can be published and shared with other members of the organization. Finally, Power BI Mobile allows users to access their reports and dashboards from anywhere using mobile devices.\n",
    "One of the most powerful features of Power BI is the ability to create interactive visualizations. These visualizations allow users to explore data in various ways, identifying patterns and trends that might go unnoticed in traditional data tables. Additionally, Power BI offers a vast library of customizable visualizations, including bar charts, line charts, geographic maps...\"\"\"\n"
   ]
  },
  {
   "cell_type": "code",
   "execution_count": 14,
   "id": "a77adcf5-d6e1-452c-ab4d-e73c3cce4eaa",
   "metadata": {},
   "outputs": [
    {
     "data": {
      "text/plain": [
       "'Power BI is a data analysis and reporting tool developed by Microsoft. Its main function is to transform raw data into interactive and understandable visual information. Power BI is composed of three main components: Power BI Desktop, Power BI Service, and Power BI Mobile. It is widely used by companies of all sizes to improve decision-making and business strategies. The most powerful features of Power BI are the ability to create interactive visualizations and a vast library of customizable visualizations, including bar charts, line charts, geographic maps.'"
      ]
     },
     "execution_count": 14,
     "metadata": {},
     "output_type": "execute_result"
    }
   ],
   "source": [
    "def carregar_modelo(nome_modelo):\n",
    "    resumidor = pipeline(\"summarization\", model = nome_modelo)\n",
    "    return resumidor\n",
    "\n",
    "def resumir_texto(texto):\n",
    "    resumidor = carregar_modelo(\"facebook/bart-large-cnn\")\n",
    "    resumo = resumidor( texto, max_length = 200, min_length = 100 )\n",
    "    resumo_texto = resumo[0][\"summary_text\"]\n",
    "    return resumo_texto\n",
    "\n",
    "resumir_texto(texto_powerbi_en)"
   ]
  },
  {
   "cell_type": "code",
   "execution_count": null,
   "id": "3ed21cf6-ce60-49ec-a73d-7c25afacb197",
   "metadata": {},
   "outputs": [],
   "source": []
  }
 ],
 "metadata": {
  "kernelspec": {
   "display_name": "Python 3 (ipykernel)",
   "language": "python",
   "name": "python3"
  },
  "language_info": {
   "codemirror_mode": {
    "name": "ipython",
    "version": 3
   },
   "file_extension": ".py",
   "mimetype": "text/x-python",
   "name": "python",
   "nbconvert_exporter": "python",
   "pygments_lexer": "ipython3",
   "version": "3.11.7"
  }
 },
 "nbformat": 4,
 "nbformat_minor": 5
}

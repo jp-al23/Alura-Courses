{
 "cells": [
  {
   "cell_type": "code",
   "execution_count": 3,
   "id": "a9061614-e8f0-4c5a-9dd0-3032e609dc9e",
   "metadata": {},
   "outputs": [
    {
     "name": "stdout",
     "output_type": "stream",
     "text": [
      "WARNING:tensorflow:From C:\\Users\\Pichau\\AppData\\Local\\Programs\\Python\\Python311\\Lib\\site-packages\\keras\\src\\losses.py:2976: The name tf.losses.sparse_softmax_cross_entropy is deprecated. Please use tf.compat.v1.losses.sparse_softmax_cross_entropy instead.\n",
      "\n",
      "Similaridade entre 'learning' e 'transforming': 0.5340\n"
     ]
    }
   ],
   "source": [
    "from transformers import BertTokenizer, BertModel\n",
    "import torch\n",
    "from sklearn.metrics.pairwise import cosine_similarity\n",
    "\n",
    "# Função para obter embeddings da BERT para uma frase\n",
    "def get_word_embeddings(text):\n",
    "    # Carregando o tokenizer e o modelo BERT pré-treinado\n",
    "    tokenizer = BertTokenizer.from_pretrained('bert-base-uncased')\n",
    "    model = BertModel.from_pretrained('bert-base-uncased')\n",
    "\n",
    "    # Tokenizando o texto e convertendo para IDs\n",
    "    inputs = tokenizer(text, return_tensors='pt', padding=True, truncation=True, max_length=512)\n",
    "\n",
    "    # Passando os inputs pelo modelo BERT para obter os embeddings\n",
    "    with torch.no_grad():\n",
    "        outputs = model(**inputs)\n",
    "\n",
    "    # Obtendo os embeddings da última camada escondida\n",
    "    embeddings = outputs.last_hidden_state.squeeze(0)  # Removendo a dimensão do batch\n",
    "\n",
    "    # Convertendo para numpy para facilitar o cálculo\n",
    "    embeddings = embeddings.numpy()\n",
    "\n",
    "    return embeddings, inputs['input_ids'].squeeze(0).numpy(), tokenizer\n",
    "\n",
    "# Texto de exemplo\n",
    "text = \"Machine learning is transforming the world.\"\n",
    "\n",
    "# Obtendo os embeddings e os tokens correspondentes\n",
    "embeddings, input_ids, tokenizer = get_word_embeddings(text)\n",
    "\n",
    "# Mapear tokens para suas palavras correspondentes\n",
    "tokens = [tokenizer.decode([token_id]) for token_id in input_ids]\n",
    "\n",
    "# Função para calcular a similaridade entre duas palavras dadas suas posições\n",
    "def calculate_similarity(embeddings, idx1, idx2):\n",
    "    # Obtendo os embeddings das palavras\n",
    "    emb1 = embeddings[idx1].reshape(1, -1)  # Reshape para cálculo de similaridade\n",
    "    emb2 = embeddings[idx2].reshape(1, -1)\n",
    "\n",
    "    # Calculando a similaridade do cosseno\n",
    "    similarity = cosine_similarity(emb1, emb2)[0][0]\n",
    "    return similarity\n",
    "\n",
    "# Índices das palavras a serem comparadas (por exemplo, \"learning\" e \"transforming\")\n",
    "index_word1 = tokens.index('learning')\n",
    "index_word2 = tokens.index('transforming')\n",
    "\n",
    "# Calculando a similaridade entre as palavras\n",
    "similarity = calculate_similarity(embeddings, index_word1, index_word2)\n",
    "\n",
    "print(f\"Similaridade entre '{tokens[index_word1]}' e '{tokens[index_word2]}': {similarity:.4f}\")\n"
   ]
  },
  {
   "cell_type": "code",
   "execution_count": null,
   "id": "e1550313-d5f4-4459-b61a-deb89582fad3",
   "metadata": {},
   "outputs": [],
   "source": []
  }
 ],
 "metadata": {
  "kernelspec": {
   "display_name": "Python 3 (ipykernel)",
   "language": "python",
   "name": "python3"
  },
  "language_info": {
   "codemirror_mode": {
    "name": "ipython",
    "version": 3
   },
   "file_extension": ".py",
   "mimetype": "text/x-python",
   "name": "python",
   "nbconvert_exporter": "python",
   "pygments_lexer": "ipython3",
   "version": "3.11.7"
  }
 },
 "nbformat": 4,
 "nbformat_minor": 5
}

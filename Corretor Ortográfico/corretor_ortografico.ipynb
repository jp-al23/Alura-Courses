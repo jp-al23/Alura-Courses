{
 "cells": [
  {
   "cell_type": "markdown",
   "id": "8d61037a-7c4e-4feb-ae22-c8d128a48239",
   "metadata": {},
   "source": [
    "# Alura"
   ]
  },
  {
   "cell_type": "markdown",
   "id": "4b66eabf-069f-4254-b549-17c6e02be1aa",
   "metadata": {},
   "source": [
    "## Inicialização"
   ]
  },
  {
   "cell_type": "code",
   "execution_count": 1,
   "id": "d3d769f3-379e-46bd-b994-de430be1c9b1",
   "metadata": {},
   "outputs": [],
   "source": [
    "import pandas as pd\n",
    "import numpy as np\n",
    "import matplotlib.pyplot as plt\n",
    "import seaborn as sns\n",
    "import nltk"
   ]
  },
  {
   "cell_type": "code",
   "execution_count": 2,
   "id": "141e76c9-4044-4279-9907-93e234772b23",
   "metadata": {},
   "outputs": [],
   "source": [
    "with open(\"artigos.txt\", \"r\", encoding = \"utf-8\") as file:\n",
    "    artigos = file.read()"
   ]
  },
  {
   "cell_type": "markdown",
   "id": "a9113952-4f0a-449e-9458-8865f319b045",
   "metadata": {},
   "source": [
    "## Analisando o corpus"
   ]
  },
  {
   "cell_type": "code",
   "execution_count": 3,
   "id": "a4e03f60-afb1-4440-8c04-9641afb4bd83",
   "metadata": {},
   "outputs": [
    {
     "data": {
      "text/plain": [
       "'\\n\\n\\nimagem \\n\\nTemos a seguinte classe que representa um usuário no nosso sistema:\\n\\njava\\n\\nPara salvar um novo usuário, várias validações são feitas, como por exemplo: Ver se o nome só contém letras, [**o CPF só números**] e ver se o usuário possui no mínimo 18 anos. Veja o método que faz essa validação:\\n\\njava \\n\\nSuponha agora que eu tenha outra classe, a classe `Produto`, que contém um atributo nome e eu quero fazer a mesma validação que fiz para o nome do usuário: Ver se só contém letras. E aí? Vou'"
      ]
     },
     "execution_count": 3,
     "metadata": {},
     "output_type": "execute_result"
    }
   ],
   "source": [
    "artigos[:500]"
   ]
  },
  {
   "cell_type": "code",
   "execution_count": 4,
   "id": "5a55e2a1-cca2-44b8-9906-41b2d4b31df9",
   "metadata": {},
   "outputs": [
    {
     "name": "stdout",
     "output_type": "stream",
     "text": [
      "416903\n"
     ]
    }
   ],
   "source": [
    "tokens = artigos.split()\n",
    "print(len(tokens))"
   ]
  },
  {
   "cell_type": "markdown",
   "id": "1f8c8685-4597-4fe3-9e4e-5cf053390fcb",
   "metadata": {},
   "source": [
    "## Tokenização"
   ]
  },
  {
   "cell_type": "code",
   "execution_count": 5,
   "id": "3c6e0187-5b0e-43c7-8ceb-c8aefe3e0712",
   "metadata": {},
   "outputs": [
    {
     "name": "stdout",
     "output_type": "stream",
     "text": [
      "515905\n",
      "['imagem', 'Temos', 'a', 'seguinte', 'classe', 'que', 'representa', 'um', 'usuário', 'no', 'nosso', 'sistema', ':', 'java', 'Para']\n"
     ]
    }
   ],
   "source": [
    "tokens_artigo = nltk.tokenize.word_tokenize(artigos)\n",
    "print(len(tokens_artigo))\n",
    "print(tokens_artigo[:15])"
   ]
  },
  {
   "cell_type": "markdown",
   "id": "0f1a5b11-9a8b-4a96-b5f2-32829fb812a8",
   "metadata": {},
   "source": [
    "## Mantendo apenas palavras"
   ]
  },
  {
   "cell_type": "code",
   "execution_count": 6,
   "id": "45b00cce-8684-4286-ba37-58135f8f9a01",
   "metadata": {},
   "outputs": [
    {
     "name": "stdout",
     "output_type": "stream",
     "text": [
      "403104\n",
      "['imagem', 'Temos', 'a', 'seguinte', 'classe', 'que', 'representa', 'um', 'usuário', 'no', 'nosso', 'sistema', 'java', 'Para', 'salvar']\n"
     ]
    }
   ],
   "source": [
    "tokens_artigo = list(filter(lambda x: x.isalpha(), tokens_artigo))\n",
    "print(len(tokens_artigo))\n",
    "print(tokens_artigo[:15])"
   ]
  },
  {
   "cell_type": "markdown",
   "id": "87ee4ca3-04d0-4e97-8c7c-a5f0af7c6bf9",
   "metadata": {},
   "source": [
    "## Normalização"
   ]
  },
  {
   "cell_type": "code",
   "execution_count": 7,
   "id": "b5e04cb8-04ab-4890-baa6-bb77a799d46d",
   "metadata": {},
   "outputs": [
    {
     "name": "stdout",
     "output_type": "stream",
     "text": [
      "['imagem', 'temos', 'a', 'seguinte', 'classe', 'que', 'representa', 'um', 'usuário', 'no', 'nosso', 'sistema', 'java', 'para', 'salvar']\n"
     ]
    }
   ],
   "source": [
    "tokens_normalizados = list(map(lambda x: x.lower(), tokens_artigo))\n",
    "print(tokens_normalizados[:15])"
   ]
  },
  {
   "cell_type": "code",
   "execution_count": 8,
   "id": "cdda72a9-f280-4b22-9d4b-0cf66b49ba0f",
   "metadata": {},
   "outputs": [
    {
     "name": "stdout",
     "output_type": "stream",
     "text": [
      "18465\n",
      "['liam', 'aproveita', 'freelances', 'overflow', 'preciso', 'inventado', 'desvalorizar', 'pertinente', 'gratuitos', 'arredonda', 'supera', 'personalizável', 'franca', 'jornada', 'strftime']\n"
     ]
    }
   ],
   "source": [
    "tokens_unicos = list(set(tokens_normalizados))\n",
    "print(len(tokens_unicos))\n",
    "print(tokens_unicos[:15])\n",
    "vocabulario = tokens_unicos[::]"
   ]
  },
  {
   "cell_type": "markdown",
   "id": "194d3596-b7fd-4567-8c65-ed159956959c",
   "metadata": {},
   "source": [
    "## Gerador de palavras"
   ]
  },
  {
   "cell_type": "code",
   "execution_count": 9,
   "id": "0e47d11a-52b4-41d5-841f-e82f3cbc53c3",
   "metadata": {},
   "outputs": [],
   "source": [
    "import string\n",
    "\n",
    "def fatiar_palavra(palavra):\n",
    "    fatiacoes = []\n",
    "    for i in range(len(palavra)+1):\n",
    "        fatiacoes.append( (palavra[:i], palavra[i:]) )\n",
    "    return fatiacoes\n",
    "\n",
    "def inserir_caractere(esq, dir):\n",
    "    novas_palavras = []\n",
    "    for c in 'abcdefghijklmnopqrstuvwxyzàáâãèéêìíîòóôõùúûç':\n",
    "        novas_palavras.append(esq + c + dir)\n",
    "    return novas_palavras\n",
    "\n",
    "def gerador_palavras(palavra):\n",
    "    todas_combinacoes = []\n",
    "    for esq, dir in fatiar_palavra(palavra):\n",
    "        todas_combinacoes.extend( inserir_caractere(esq, dir) )\n",
    "    return todas_combinacoes"
   ]
  },
  {
   "cell_type": "code",
   "execution_count": 10,
   "id": "c82e6d92-8c9f-4ed1-87d2-5f1b224f4fdd",
   "metadata": {},
   "outputs": [
    {
     "data": {
      "text/plain": [
       "['aa', 'ba', 'ca', 'da', 'ea', 'fa', 'ga', 'ha', 'ia', 'ja']"
      ]
     },
     "execution_count": 10,
     "metadata": {},
     "output_type": "execute_result"
    }
   ],
   "source": [
    "gerador_palavras(\"a\")[:10]"
   ]
  },
  {
   "cell_type": "markdown",
   "id": "d740c5d7-375f-4c48-8123-6b533695335f",
   "metadata": {},
   "source": [
    "## Corretor"
   ]
  },
  {
   "cell_type": "code",
   "execution_count": 11,
   "id": "4674bba6-401c-40ef-9549-33e6519b625b",
   "metadata": {},
   "outputs": [
    {
     "data": {
      "text/plain": [
       "FreqDist({'de': 15502, 'o': 14056, 'que': 12230, 'a': 11099, 'e': 10501, 'para': 7710, 'um': 6368, 'é': 5899, 'uma': 5220, 'do': 5124, ...})"
      ]
     },
     "execution_count": 11,
     "metadata": {},
     "output_type": "execute_result"
    }
   ],
   "source": [
    "frequencia = nltk.FreqDist(tokens_normalizados)\n",
    "total_palavras = len(tokens_normalizados)\n",
    "frequencia"
   ]
  },
  {
   "cell_type": "code",
   "execution_count": 12,
   "id": "cd8bd3a0-8fab-4494-b4f4-46ba541b9ad5",
   "metadata": {},
   "outputs": [],
   "source": [
    "def probabilidade_palavra(palavra_gerada):\n",
    "    return frequencia[palavra_gerada] / total_palavras"
   ]
  },
  {
   "cell_type": "code",
   "execution_count": 13,
   "id": "dd33eab2-7193-486f-96f0-d2b1ceb54965",
   "metadata": {},
   "outputs": [],
   "source": [
    "def corretor(palavra):\n",
    "    palavras_geradas = gerador_palavras(palavra)\n",
    "    palavra_correta = max(palavras_geradas, key = probabilidade_palavra)\n",
    "    return palavra_correta"
   ]
  },
  {
   "cell_type": "code",
   "execution_count": 14,
   "id": "5d4772d9-3c8e-4778-be48-984ad03718ca",
   "metadata": {},
   "outputs": [
    {
     "data": {
      "text/plain": [
       "0.00023815194093831864"
      ]
     },
     "execution_count": 14,
     "metadata": {},
     "output_type": "execute_result"
    }
   ],
   "source": [
    "probabilidade_palavra(\"lógica\")"
   ]
  },
  {
   "cell_type": "code",
   "execution_count": 15,
   "id": "0c46785c-4f32-4259-9463-73c40759a2cc",
   "metadata": {},
   "outputs": [
    {
     "data": {
      "text/plain": [
       "'de'"
      ]
     },
     "execution_count": 15,
     "metadata": {},
     "output_type": "execute_result"
    }
   ],
   "source": [
    "corretor(\"e\")"
   ]
  },
  {
   "cell_type": "markdown",
   "id": "8fdfdf80-cc8e-476d-948c-50507cc81c37",
   "metadata": {},
   "source": [
    "## Avaliando o modelo"
   ]
  },
  {
   "cell_type": "code",
   "execution_count": 16,
   "id": "9d3317da-056d-4fb5-b0ed-5783b0ececb5",
   "metadata": {},
   "outputs": [],
   "source": [
    "with open(\"palavras.txt\", \"r\", encoding = \"utf-8\") as file:\n",
    "    erradas = []\n",
    "    corretas = []\n",
    "    for line in file:\n",
    "        correta, errada = (line.strip().split(maxsplit = 1))\n",
    "        erradas.append(errada)\n",
    "        corretas.append(correta)\n",
    "    erradas = np.array(erradas)\n",
    "    corretas = np.array(corretas)"
   ]
  },
  {
   "cell_type": "code",
   "execution_count": 17,
   "id": "7fbffa8a-41cc-461b-88cd-d0aa6a7390a1",
   "metadata": {},
   "outputs": [
    {
     "name": "stdout",
     "output_type": "stream",
     "text": [
      "Taxa de acertos = 1.08%\n"
     ]
    }
   ],
   "source": [
    "def avaliador(corretas, erradas):\n",
    "    total = corretas.shape[0]\n",
    "    acertos = 0\n",
    "    for i in range(total):\n",
    "        acertos += corretor(erradas[i]) == corretas[i]\n",
    "    print(\"Taxa de acertos = {:.2f}%\".format(acertos * 100 / total))\n",
    "\n",
    "avaliador(corretas, erradas)"
   ]
  },
  {
   "cell_type": "markdown",
   "id": "a27e2a76-b160-40d1-8d29-6df22c889735",
   "metadata": {},
   "source": [
    "## Adicionando operação de Delete"
   ]
  },
  {
   "cell_type": "code",
   "execution_count": 18,
   "id": "060ab4c3-d70d-451d-9775-64143f3f3f99",
   "metadata": {},
   "outputs": [
    {
     "data": {
      "text/plain": [
       "['este', 'tste', 'tete', 'tese', 'test']"
      ]
     },
     "execution_count": 18,
     "metadata": {},
     "output_type": "execute_result"
    }
   ],
   "source": [
    "def delete_palavra(palavra):\n",
    "    novas_palavras = []\n",
    "    for i in range(len(palavra)):\n",
    "        novas_palavras.append( palavra[:i] + palavra[i+1:] )\n",
    "    return novas_palavras\n",
    "\n",
    "delete_palavra(\"teste\")"
   ]
  },
  {
   "cell_type": "code",
   "execution_count": 19,
   "id": "af12fdbb-da8c-4e84-897c-2108e82f730f",
   "metadata": {},
   "outputs": [],
   "source": [
    "def gerador_palavras(palavra):\n",
    "    todas_combinacoes = []\n",
    "    for esq, dir in fatiar_palavra(palavra):\n",
    "        todas_combinacoes.extend( inserir_caractere(esq, dir) )\n",
    "    todas_combinacoes.extend( delete_palavra(palavra) )\n",
    "    return todas_combinacoes"
   ]
  },
  {
   "cell_type": "code",
   "execution_count": 20,
   "id": "7d35bd17-9df4-4839-be77-91d3f36376b9",
   "metadata": {},
   "outputs": [
    {
     "name": "stdout",
     "output_type": "stream",
     "text": [
      "Taxa de acertos = 41.40%\n"
     ]
    }
   ],
   "source": [
    "avaliador(corretas, erradas)"
   ]
  },
  {
   "cell_type": "markdown",
   "id": "80dd7640-d59c-4115-af13-abf6047796a4",
   "metadata": {},
   "source": [
    "## Operação de Substituir"
   ]
  },
  {
   "cell_type": "code",
   "execution_count": 21,
   "id": "ff554a03-ea58-4352-ba46-6118ff2606ee",
   "metadata": {},
   "outputs": [
    {
     "name": "stdout",
     "output_type": "stream",
     "text": [
      "['ab', 'bb', 'cb', 'db', 'eb', 'fb', 'gb', 'hb', 'ib', 'jb', 'kb', 'lb', 'mb', 'nb', 'ob', 'pb', 'qb', 'rb', 'sb', 'tb', 'ub', 'vb', 'wb', 'xb', 'yb', 'zb', 'àb', 'áb', 'âb', 'ãb', 'èb', 'éb', 'êb', 'ìb', 'íb', 'îb', 'òb', 'ób', 'ôb', 'õb', 'ùb', 'úb', 'ûb', 'çb', 'aa', 'ab', 'ac', 'ad', 'ae', 'af', 'ag', 'ah', 'ai', 'aj', 'ak', 'al', 'am', 'an', 'ao', 'ap', 'aq', 'ar', 'as', 'at', 'au', 'av', 'aw', 'ax', 'ay', 'az', 'aà', 'aá', 'aâ', 'aã', 'aè', 'aé', 'aê', 'aì', 'aí', 'aî', 'aò', 'aó', 'aô', 'aõ', 'aù', 'aú', 'aû', 'aç']\n"
     ]
    }
   ],
   "source": [
    "def substituir_palavra(palavra):\n",
    "    novas_palavras = []\n",
    "    for i in range(len(palavra)):\n",
    "        for c in 'abcdefghijklmnopqrstuvwxyzàáâãèéêìíîòóôõùúûç':\n",
    "            novas_palavras.append(palavra[:i] + c + palavra[i+1:])\n",
    "    return novas_palavras\n",
    "\n",
    "print(substituir_palavra(\"ab\"))"
   ]
  },
  {
   "cell_type": "code",
   "execution_count": 22,
   "id": "cae6bf75-532c-43f7-8f05-f7fea169d1e3",
   "metadata": {},
   "outputs": [],
   "source": [
    "def gerador_palavras(palavra):\n",
    "    todas_combinacoes = []\n",
    "    for esq, dir in fatiar_palavra(palavra):\n",
    "        todas_combinacoes.extend( inserir_caractere(esq, dir) )\n",
    "    todas_combinacoes.extend( delete_palavra(palavra) )\n",
    "    todas_combinacoes.extend( substituir_palavra(palavra) )\n",
    "    return todas_combinacoes"
   ]
  },
  {
   "cell_type": "code",
   "execution_count": 23,
   "id": "0b012e4b-adbf-4e2f-820a-30838ca80ee8",
   "metadata": {},
   "outputs": [
    {
     "name": "stdout",
     "output_type": "stream",
     "text": [
      "Taxa de acertos = 76.34%\n"
     ]
    }
   ],
   "source": [
    "avaliador(corretas, erradas)"
   ]
  },
  {
   "cell_type": "markdown",
   "id": "864d7121-e14f-47b0-beb1-7a1f10cc56b2",
   "metadata": {},
   "source": [
    "## Inversão de letras"
   ]
  },
  {
   "cell_type": "code",
   "execution_count": 24,
   "id": "66178e11-ee37-4c6f-b08a-24bffdab7800",
   "metadata": {},
   "outputs": [
    {
     "data": {
      "text/plain": [
       "['ólgica', 'lgóica', 'lóigca', 'lógcia', 'lógiac']"
      ]
     },
     "execution_count": 24,
     "metadata": {},
     "output_type": "execute_result"
    }
   ],
   "source": [
    "def inverter_palavra(palavra):\n",
    "    novas_palavras = []\n",
    "    for i in range(len(palavra) - 1):\n",
    "        novas_palavras.append( palavra[:i] + palavra[i:i+2][::-1] + palavra[i+2:]  )\n",
    "    return novas_palavras\n",
    "\n",
    "inverter_palavra(\"lógica\")"
   ]
  },
  {
   "cell_type": "code",
   "execution_count": 25,
   "id": "700343b7-0043-436d-a2b2-af6e58bfeb14",
   "metadata": {},
   "outputs": [],
   "source": [
    "def gerador_palavras(palavra):\n",
    "    todas_combinacoes = []\n",
    "    for esq, dir in fatiar_palavra(palavra):\n",
    "        todas_combinacoes.extend( inserir_caractere(esq, dir) )\n",
    "    todas_combinacoes.extend( delete_palavra(palavra) )\n",
    "    todas_combinacoes.extend( substituir_palavra(palavra) )\n",
    "    todas_combinacoes.extend( inverter_palavra(palavra) )\n",
    "    return todas_combinacoes"
   ]
  },
  {
   "cell_type": "code",
   "execution_count": 26,
   "id": "05a859df-e065-42cc-923c-cddc8eb69c3e",
   "metadata": {},
   "outputs": [
    {
     "name": "stdout",
     "output_type": "stream",
     "text": [
      "Taxa de acertos = 76.34%\n"
     ]
    }
   ],
   "source": [
    "avaliador(corretas, erradas)"
   ]
  },
  {
   "cell_type": "markdown",
   "id": "e9d621ba-99d1-4004-ab23-9915ffaeab36",
   "metadata": {},
   "source": [
    "## Palavras desconhecidas ao vocabulário"
   ]
  },
  {
   "cell_type": "code",
   "execution_count": 27,
   "id": "4788022f-0338-4789-a3a2-ed4b537ef6d1",
   "metadata": {},
   "outputs": [
    {
     "name": "stdout",
     "output_type": "stream",
     "text": [
      "13 palavras desconhecidas de 186\n"
     ]
    }
   ],
   "source": [
    "desconhecidas = 0\n",
    "for palavra in corretas:\n",
    "    if palavra not in vocabulario:\n",
    "        desconhecidas += 1\n",
    "print(\"{} palavras desconhecidas de {}\".format( desconhecidas , len(corretas) ) )"
   ]
  },
  {
   "cell_type": "code",
   "execution_count": 28,
   "id": "49db7c81-a049-4fb0-8925-101ec5e4cd7d",
   "metadata": {},
   "outputs": [
    {
     "name": "stdout",
     "output_type": "stream",
     "text": [
      "Porcentagem de erro por palavras desconhecidas é: 6.99%\n"
     ]
    }
   ],
   "source": [
    "print(\"Porcentagem de erro por palavras desconhecidas é: {:.2f}%\".format( (13 / 186) * 100) )"
   ]
  },
  {
   "cell_type": "code",
   "execution_count": 29,
   "id": "af4ef95c-75c0-4e1e-948b-bcb9bd2f57f0",
   "metadata": {},
   "outputs": [
    {
     "name": "stdout",
     "output_type": "stream",
     "text": [
      "Taxa de acertos = 76.34%\n",
      "Porcentagem de erro por palavras desconhecidas é: 6.99%\n"
     ]
    }
   ],
   "source": [
    "def avaliador(corretas, erradas):\n",
    "    total = corretas.shape[0]\n",
    "    acertos = 0\n",
    "    for i in range(total):\n",
    "        acertos += corretor(erradas[i]) == corretas[i]\n",
    "    print(\"Taxa de acertos = {:.2f}%\".format(acertos * 100 / total))\n",
    "\n",
    "    desconhecidas = 0\n",
    "    for palavra in corretas:\n",
    "        if palavra not in vocabulario:\n",
    "            desconhecidas += 1\n",
    "\n",
    "    print(\"Porcentagem de erro por palavras desconhecidas é: {:.2f}%\".format( (desconhecidas / len(corretas)) * 100) )\n",
    "\n",
    "avaliador(corretas, erradas)"
   ]
  },
  {
   "cell_type": "markdown",
   "id": "529cec49-c311-4906-95df-087f0ce63c50",
   "metadata": {},
   "source": [
    "## Gerador turbinado"
   ]
  },
  {
   "cell_type": "code",
   "execution_count": 30,
   "id": "bee7f2a0-739a-48f3-a15b-07114f7936b8",
   "metadata": {},
   "outputs": [],
   "source": [
    "def gerador_turbinado(palavras, iteracoes = 2):\n",
    "    if type(palavras) == str or type(palavras) == np.str_: palavras = [palavras]\n",
    "\n",
    "    if iteracoes == 0: \n",
    "        return palavras\n",
    "    todas_palavras = []\n",
    "    for palavra in palavras:\n",
    "        todas_palavras.extend( gerador_palavras(palavra) )\n",
    "    return gerador_turbinado( set(todas_palavras), iteracoes - 1)"
   ]
  },
  {
   "cell_type": "code",
   "execution_count": 31,
   "id": "a436867d-5163-442e-a5c0-e53d4b453d4c",
   "metadata": {},
   "outputs": [],
   "source": [
    "def corretor_turbinado(palavra, iteracoes = 2):\n",
    "    palavras_geradas = gerador_turbinado(palavra, iteracoes)\n",
    "    palavra_correta = max(palavras_geradas, key = probabilidade_palavra)\n",
    "    return palavra_correta"
   ]
  },
  {
   "cell_type": "code",
   "execution_count": 32,
   "id": "e28fea85-3203-4885-bfea-9ba064d3e9b8",
   "metadata": {},
   "outputs": [
    {
     "data": {
      "text/plain": [
       "'lógica'"
      ]
     },
     "execution_count": 32,
     "metadata": {},
     "output_type": "execute_result"
    }
   ],
   "source": [
    "corretor_turbinado(\"logicaa\", iteracoes = 2)"
   ]
  },
  {
   "cell_type": "code",
   "execution_count": 33,
   "id": "24f8d496-1747-466c-9fd9-15ab82722d81",
   "metadata": {},
   "outputs": [
    {
     "name": "stdout",
     "output_type": "stream",
     "text": [
      "Taxa de acertos = 54.84%\n",
      "Porcentagem de erro por palavras desconhecidas é: 6.99%\n"
     ]
    }
   ],
   "source": [
    "def avaliador_turbinado(corretas, erradas, iteracoes = 2):\n",
    "    total = corretas.shape[0]\n",
    "    acertos = 0\n",
    "    for i in range(total):\n",
    "        acertos += corretor_turbinado(erradas[i], iteracoes) == corretas[i]\n",
    "    print(\"Taxa de acertos = {:.2f}%\".format(acertos * 100 / total))\n",
    "\n",
    "    desconhecidas = 0\n",
    "    for palavra in corretas:\n",
    "        if palavra not in vocabulario:\n",
    "            desconhecidas += 1\n",
    "\n",
    "    print(\"Porcentagem de erro por palavras desconhecidas é: {:.2f}%\".format( (desconhecidas / len(corretas)) * 100) )\n",
    "\n",
    "\n",
    "avaliador_turbinado(corretas, erradas, iteracoes = 2)"
   ]
  },
  {
   "cell_type": "code",
   "execution_count": 37,
   "id": "86326b5b-dcb9-4ee7-8535-bad34645388f",
   "metadata": {},
   "outputs": [
    {
     "data": {
      "text/plain": [
       "58098"
      ]
     },
     "execution_count": 37,
     "metadata": {},
     "output_type": "execute_result"
    }
   ],
   "source": [
    "len(gerador_turbinado(\"aaaa\"))"
   ]
  },
  {
   "cell_type": "markdown",
   "id": "db5d1e43-8a51-4958-ba23-04f8cc18176f",
   "metadata": {},
   "source": [
    "## Analisando os erros"
   ]
  },
  {
   "cell_type": "code",
   "execution_count": 39,
   "id": "bc1ae342-634d-45b5-9c51-e35bb9e70a75",
   "metadata": {},
   "outputs": [
    {
     "data": {
      "text/html": [
       "<div>\n",
       "<style scoped>\n",
       "    .dataframe tbody tr th:only-of-type {\n",
       "        vertical-align: middle;\n",
       "    }\n",
       "\n",
       "    .dataframe tbody tr th {\n",
       "        vertical-align: top;\n",
       "    }\n",
       "\n",
       "    .dataframe thead th {\n",
       "        text-align: right;\n",
       "    }\n",
       "</style>\n",
       "<table border=\"1\" class=\"dataframe\">\n",
       "  <thead>\n",
       "    <tr style=\"text-align: right;\">\n",
       "      <th></th>\n",
       "      <th>Erradas</th>\n",
       "      <th>Corretas</th>\n",
       "      <th>Corretor</th>\n",
       "      <th>Corretor_Turbinado</th>\n",
       "      <th>Corretor_Acerto</th>\n",
       "      <th>Corretor_Turbinado_Acerto</th>\n",
       "    </tr>\n",
       "  </thead>\n",
       "  <tbody>\n",
       "    <tr>\n",
       "      <th>0</th>\n",
       "      <td>pyodemos</td>\n",
       "      <td>podemos</td>\n",
       "      <td>podemos</td>\n",
       "      <td>podemos</td>\n",
       "      <td>True</td>\n",
       "      <td>True</td>\n",
       "    </tr>\n",
       "    <tr>\n",
       "      <th>1</th>\n",
       "      <td>esje</td>\n",
       "      <td>esse</td>\n",
       "      <td>esse</td>\n",
       "      <td>se</td>\n",
       "      <td>True</td>\n",
       "      <td>False</td>\n",
       "    </tr>\n",
       "    <tr>\n",
       "      <th>2</th>\n",
       "      <td>jrá</td>\n",
       "      <td>já</td>\n",
       "      <td>já</td>\n",
       "      <td>já</td>\n",
       "      <td>True</td>\n",
       "      <td>True</td>\n",
       "    </tr>\n",
       "    <tr>\n",
       "      <th>3</th>\n",
       "      <td>nossov</td>\n",
       "      <td>nosso</td>\n",
       "      <td>nosso</td>\n",
       "      <td>nosso</td>\n",
       "      <td>True</td>\n",
       "      <td>True</td>\n",
       "    </tr>\n",
       "    <tr>\n",
       "      <th>4</th>\n",
       "      <td>sãêo</td>\n",
       "      <td>são</td>\n",
       "      <td>são</td>\n",
       "      <td>não</td>\n",
       "      <td>True</td>\n",
       "      <td>False</td>\n",
       "    </tr>\n",
       "    <tr>\n",
       "      <th>...</th>\n",
       "      <td>...</td>\n",
       "      <td>...</td>\n",
       "      <td>...</td>\n",
       "      <td>...</td>\n",
       "      <td>...</td>\n",
       "      <td>...</td>\n",
       "    </tr>\n",
       "    <tr>\n",
       "      <th>181</th>\n",
       "      <td>provalecer</td>\n",
       "      <td>prevalecer</td>\n",
       "      <td>aprovalecer</td>\n",
       "      <td>prevalece</td>\n",
       "      <td>False</td>\n",
       "      <td>False</td>\n",
       "    </tr>\n",
       "    <tr>\n",
       "      <th>182</th>\n",
       "      <td>esteje</td>\n",
       "      <td>esteja</td>\n",
       "      <td>esteja</td>\n",
       "      <td>este</td>\n",
       "      <td>True</td>\n",
       "      <td>False</td>\n",
       "    </tr>\n",
       "    <tr>\n",
       "      <th>183</th>\n",
       "      <td>mindigo</td>\n",
       "      <td>mendigo</td>\n",
       "      <td>amindigo</td>\n",
       "      <td>indico</td>\n",
       "      <td>False</td>\n",
       "      <td>False</td>\n",
       "    </tr>\n",
       "    <tr>\n",
       "      <th>184</th>\n",
       "      <td>célebro</td>\n",
       "      <td>cérebro</td>\n",
       "      <td>cérebro</td>\n",
       "      <td>cérebro</td>\n",
       "      <td>True</td>\n",
       "      <td>True</td>\n",
       "    </tr>\n",
       "    <tr>\n",
       "      <th>185</th>\n",
       "      <td>pertubar</td>\n",
       "      <td>perturbar</td>\n",
       "      <td>apertubar</td>\n",
       "      <td>derrubar</td>\n",
       "      <td>False</td>\n",
       "      <td>False</td>\n",
       "    </tr>\n",
       "  </tbody>\n",
       "</table>\n",
       "<p>186 rows × 6 columns</p>\n",
       "</div>"
      ],
      "text/plain": [
       "        Erradas    Corretas     Corretor Corretor_Turbinado  Corretor_Acerto  \\\n",
       "0      pyodemos     podemos      podemos            podemos             True   \n",
       "1          esje        esse         esse                 se             True   \n",
       "2           jrá          já           já                 já             True   \n",
       "3        nossov       nosso        nosso              nosso             True   \n",
       "4          sãêo         são          são                não             True   \n",
       "..          ...         ...          ...                ...              ...   \n",
       "181  provalecer  prevalecer  aprovalecer          prevalece            False   \n",
       "182      esteje      esteja       esteja               este             True   \n",
       "183     mindigo     mendigo     amindigo             indico            False   \n",
       "184     célebro     cérebro      cérebro            cérebro             True   \n",
       "185    pertubar   perturbar    apertubar           derrubar            False   \n",
       "\n",
       "     Corretor_Turbinado_Acerto  \n",
       "0                         True  \n",
       "1                        False  \n",
       "2                         True  \n",
       "3                         True  \n",
       "4                        False  \n",
       "..                         ...  \n",
       "181                      False  \n",
       "182                      False  \n",
       "183                      False  \n",
       "184                       True  \n",
       "185                      False  \n",
       "\n",
       "[186 rows x 6 columns]"
      ]
     },
     "execution_count": 39,
     "metadata": {},
     "output_type": "execute_result"
    }
   ],
   "source": [
    "tabela_resultados = []\n",
    "for i in range(len(corretas)):\n",
    "    resposta_corretor = corretor(erradas[i])\n",
    "    resposta_corretor_turbinado = corretor_turbinado(erradas[i])\n",
    "    tabela_resultados.append( [erradas[i], corretas[i], resposta_corretor, resposta_corretor_turbinado, corretas[i] == resposta_corretor, corretas[i] == resposta_corretor_turbinado] )\n",
    "df_resultados = pd.DataFrame(tabela_resultados, columns = [\"Erradas\", \"Corretas\", \"Corretor\", \"Corretor_Turbinado\", \"Corretor_Acerto\", \"Corretor_Turbinado_Acerto\"])\n",
    "df_resultados"
   ]
  },
  {
   "cell_type": "code",
   "execution_count": null,
   "id": "a59acd18-0592-48cb-9b70-2da67320a943",
   "metadata": {},
   "outputs": [],
   "source": []
  },
  {
   "cell_type": "markdown",
   "id": "40df688d-0a9f-4592-938d-16a6e30ec700",
   "metadata": {},
   "source": [
    "# Ideias"
   ]
  },
  {
   "cell_type": "markdown",
   "id": "12076c5d-9ec9-4d49-a03b-fce5630ecbb8",
   "metadata": {},
   "source": [
    "Ideias para melhorar o corretor:\n",
    "\n",
    "- Análise com base no contexto\n",
    "- Melhorar a base de dados\n",
    "- Otimizar o gerador turbinado (memoização)"
   ]
  }
 ],
 "metadata": {
  "kernelspec": {
   "display_name": "Python 3 (ipykernel)",
   "language": "python",
   "name": "python3"
  },
  "language_info": {
   "codemirror_mode": {
    "name": "ipython",
    "version": 3
   },
   "file_extension": ".py",
   "mimetype": "text/x-python",
   "name": "python",
   "nbconvert_exporter": "python",
   "pygments_lexer": "ipython3",
   "version": "3.11.7"
  }
 },
 "nbformat": 4,
 "nbformat_minor": 5
}

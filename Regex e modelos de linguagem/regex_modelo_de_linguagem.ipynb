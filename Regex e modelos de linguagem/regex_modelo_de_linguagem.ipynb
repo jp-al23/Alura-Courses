{
 "cells": [
  {
   "cell_type": "markdown",
   "id": "ea107f6b-720b-436a-ba26-4b1f6258bedd",
   "metadata": {},
   "source": [
    "# Regex"
   ]
  },
  {
   "cell_type": "markdown",
   "id": "6c599f3d-ab55-4250-9c4f-cfbb3a069fcc",
   "metadata": {},
   "source": [
    "## Metacaracteres:\n",
    "\n",
    "- \".\": reconhece qualquer caractere\n",
    "- \"\\\": permite usar metacaracteres como caracteres (e o inverso também)\n",
    "\n",
    "- \"()\": cria um grupo de cadeias de caractere\n",
    "  > Importante: ele guarda todos os grupos encontrados (APENAS OS QUE DERAM MATCH NO QUE ESTÁ ESCRITO DENTRO DOS PARÊNTESES)\n",
    "- \"[]\": conjunto de CARACTERES!\n",
    "- \"|\": funciona como um OU\n",
    "\n",
    "- \"*\": pode ser repetido de 0 até infinitas vezes\n",
    "- \"+\": pode ser repetido de 1 até infinitas vezes\n",
    "- \"?\": pode ser 0 ou 1\n",
    "- \"{}\": fornece o mínimo de repetições e o máximo de repetições\n",
    "\n",
    "- \"^\": a string deve iniciar com determinada cadeia de caracteres (usado no início do regex)\n",
    "  > Pode ser usado como negação dentro de um [] \n",
    "- \"$\": a string deve terminar com determinada cadeia de caracteres (usado no final do regex)\n",
    "\n",
    "- \"\\d\": dígitos\n",
    "- \"\\D\": não dígitos\n",
    "- \"\\w\": alfanuméricos\n",
    "- \"\\W\": não alfanuméricos\n",
    "- \"\\s\": qualquer espaço em branco\n",
    "- \"\\S\": nenhum espaço em branco\n"
   ]
  },
  {
   "cell_type": "markdown",
   "id": "8d51e99d-5068-4814-aa2d-a8bdd9b3c8f8",
   "metadata": {},
   "source": [
    "## Sites interessantes:\n",
    "\n",
    "- https://regex101.com/\n",
    "- https://regexone.com/"
   ]
  },
  {
   "cell_type": "markdown",
   "id": "9ade275a-6578-4f8c-95e7-d0224b090b75",
   "metadata": {},
   "source": [
    "# Inicialização"
   ]
  },
  {
   "cell_type": "code",
   "execution_count": 1,
   "id": "b6a2218d-a9a3-48ba-b049-6bde27f235db",
   "metadata": {},
   "outputs": [
    {
     "data": {
      "text/html": [
       "<div>\n",
       "<style scoped>\n",
       "    .dataframe tbody tr th:only-of-type {\n",
       "        vertical-align: middle;\n",
       "    }\n",
       "\n",
       "    .dataframe tbody tr th {\n",
       "        vertical-align: top;\n",
       "    }\n",
       "\n",
       "    .dataframe thead th {\n",
       "        text-align: right;\n",
       "    }\n",
       "</style>\n",
       "<table border=\"1\" class=\"dataframe\">\n",
       "  <thead>\n",
       "    <tr style=\"text-align: right;\">\n",
       "      <th></th>\n",
       "      <th>Id</th>\n",
       "      <th>Título</th>\n",
       "      <th>Questão</th>\n",
       "      <th>Tags</th>\n",
       "      <th>Pontuação</th>\n",
       "      <th>Visualizações</th>\n",
       "    </tr>\n",
       "  </thead>\n",
       "  <tbody>\n",
       "    <tr>\n",
       "      <th>0</th>\n",
       "      <td>2402</td>\n",
       "      <td>Como fazer hash de senhas de forma segura?</td>\n",
       "      <td>&lt;p&gt;Se eu fizer o &lt;em&gt;&lt;a href=\"http://pt.wikipe...</td>\n",
       "      <td>&lt;hash&gt;&lt;segurança&gt;&lt;senhas&gt;&lt;criptografia&gt;</td>\n",
       "      <td>350</td>\n",
       "      <td>22367</td>\n",
       "    </tr>\n",
       "    <tr>\n",
       "      <th>1</th>\n",
       "      <td>6441</td>\n",
       "      <td>Qual é a diferença entre INNER JOIN e OUTER JOIN?</td>\n",
       "      <td>&lt;p&gt;Qual é a diferença entre &lt;code&gt;INNER JOIN&lt;/...</td>\n",
       "      <td>&lt;sql&gt;&lt;join&gt;</td>\n",
       "      <td>276</td>\n",
       "      <td>176953</td>\n",
       "    </tr>\n",
       "    <tr>\n",
       "      <th>2</th>\n",
       "      <td>579</td>\n",
       "      <td>Por que não devemos usar funções do tipo mysql_*?</td>\n",
       "      <td>&lt;p&gt;Uma dúvida muito comum é por que devemos pa...</td>\n",
       "      <td>&lt;php&gt;&lt;mysql&gt;</td>\n",
       "      <td>226</td>\n",
       "      <td>9761</td>\n",
       "    </tr>\n",
       "    <tr>\n",
       "      <th>3</th>\n",
       "      <td>2539</td>\n",
       "      <td>As mensagens de erro devem se desculpar?</td>\n",
       "      <td>&lt;p&gt;É comum encontrar uma mensagem de erro que ...</td>\n",
       "      <td>&lt;aplicação-web&gt;&lt;gui&gt;&lt;console&gt;&lt;ux&gt;</td>\n",
       "      <td>214</td>\n",
       "      <td>5075</td>\n",
       "    </tr>\n",
       "    <tr>\n",
       "      <th>4</th>\n",
       "      <td>17501</td>\n",
       "      <td>Qual é a diferença de API, biblioteca e Framew...</td>\n",
       "      <td>&lt;p&gt;Me parecem termos muito próximos e eventual...</td>\n",
       "      <td>&lt;api&gt;&lt;framework&gt;&lt;terminologia&gt;&lt;biblioteca&gt;</td>\n",
       "      <td>193</td>\n",
       "      <td>54191</td>\n",
       "    </tr>\n",
       "    <tr>\n",
       "      <th>...</th>\n",
       "      <td>...</td>\n",
       "      <td>...</td>\n",
       "      <td>...</td>\n",
       "      <td>...</td>\n",
       "      <td>...</td>\n",
       "      <td>...</td>\n",
       "    </tr>\n",
       "    <tr>\n",
       "      <th>495</th>\n",
       "      <td>194857</td>\n",
       "      <td>O que é Polyfill?</td>\n",
       "      <td>&lt;p&gt;Já vi esse termo &lt;em&gt;Polyfill&lt;/em&gt; sendo ut...</td>\n",
       "      <td>&lt;javascript&gt;&lt;terminologia&gt;&lt;polyfill&gt;</td>\n",
       "      <td>26</td>\n",
       "      <td>6860</td>\n",
       "    </tr>\n",
       "    <tr>\n",
       "      <th>496</th>\n",
       "      <td>323137</td>\n",
       "      <td>Pra que serve o comando LOCK TABLES?</td>\n",
       "      <td>&lt;p&gt;Esses dias me deparei com um trecho de um S...</td>\n",
       "      <td>&lt;mysql&gt;</td>\n",
       "      <td>26</td>\n",
       "      <td>657</td>\n",
       "    </tr>\n",
       "    <tr>\n",
       "      <th>497</th>\n",
       "      <td>232958</td>\n",
       "      <td>O que é um valor opaco?</td>\n",
       "      <td>&lt;p&gt;Por vezes vejo em documentações ou especifi...</td>\n",
       "      <td>&lt;nomenclatura&gt;</td>\n",
       "      <td>26</td>\n",
       "      <td>587</td>\n",
       "    </tr>\n",
       "    <tr>\n",
       "      <th>498</th>\n",
       "      <td>227907</td>\n",
       "      <td>O que são Proxy, Gateway e Tunnel no protocolo...</td>\n",
       "      <td>&lt;p&gt;Na especificação do protocolo HTTP, mais pr...</td>\n",
       "      <td>&lt;http&gt;</td>\n",
       "      <td>26</td>\n",
       "      <td>625</td>\n",
       "    </tr>\n",
       "    <tr>\n",
       "      <th>499</th>\n",
       "      <td>34042</td>\n",
       "      <td>Recortar imagem com javascript</td>\n",
       "      <td>&lt;p&gt;Eu preciso fazer o upload de uma foto e em ...</td>\n",
       "      <td>&lt;php&gt;&lt;javascript&gt;&lt;jquery&gt;</td>\n",
       "      <td>26</td>\n",
       "      <td>1537</td>\n",
       "    </tr>\n",
       "  </tbody>\n",
       "</table>\n",
       "<p>500 rows × 6 columns</p>\n",
       "</div>"
      ],
      "text/plain": [
       "         Id                                             Título  \\\n",
       "0      2402         Como fazer hash de senhas de forma segura?   \n",
       "1      6441  Qual é a diferença entre INNER JOIN e OUTER JOIN?   \n",
       "2       579  Por que não devemos usar funções do tipo mysql_*?   \n",
       "3      2539           As mensagens de erro devem se desculpar?   \n",
       "4     17501  Qual é a diferença de API, biblioteca e Framew...   \n",
       "..      ...                                                ...   \n",
       "495  194857                                  O que é Polyfill?   \n",
       "496  323137               Pra que serve o comando LOCK TABLES?   \n",
       "497  232958                            O que é um valor opaco?   \n",
       "498  227907  O que são Proxy, Gateway e Tunnel no protocolo...   \n",
       "499   34042                     Recortar imagem com javascript   \n",
       "\n",
       "                                               Questão  \\\n",
       "0    <p>Se eu fizer o <em><a href=\"http://pt.wikipe...   \n",
       "1    <p>Qual é a diferença entre <code>INNER JOIN</...   \n",
       "2    <p>Uma dúvida muito comum é por que devemos pa...   \n",
       "3    <p>É comum encontrar uma mensagem de erro que ...   \n",
       "4    <p>Me parecem termos muito próximos e eventual...   \n",
       "..                                                 ...   \n",
       "495  <p>Já vi esse termo <em>Polyfill</em> sendo ut...   \n",
       "496  <p>Esses dias me deparei com um trecho de um S...   \n",
       "497  <p>Por vezes vejo em documentações ou especifi...   \n",
       "498  <p>Na especificação do protocolo HTTP, mais pr...   \n",
       "499  <p>Eu preciso fazer o upload de uma foto e em ...   \n",
       "\n",
       "                                           Tags  Pontuação  Visualizações  \n",
       "0       <hash><segurança><senhas><criptografia>        350          22367  \n",
       "1                                   <sql><join>        276         176953  \n",
       "2                                  <php><mysql>        226           9761  \n",
       "3             <aplicação-web><gui><console><ux>        214           5075  \n",
       "4    <api><framework><terminologia><biblioteca>        193          54191  \n",
       "..                                          ...        ...            ...  \n",
       "495        <javascript><terminologia><polyfill>         26           6860  \n",
       "496                                     <mysql>         26            657  \n",
       "497                              <nomenclatura>         26            587  \n",
       "498                                      <http>         26            625  \n",
       "499                   <php><javascript><jquery>         26           1537  \n",
       "\n",
       "[500 rows x 6 columns]"
      ]
     },
     "execution_count": 1,
     "metadata": {},
     "output_type": "execute_result"
    }
   ],
   "source": [
    "import pandas as pd\n",
    "import numpy as np\n",
    "import re\n",
    "import matplotlib.pyplot as plt\n",
    "import seaborn as sns\n",
    "\n",
    "\n",
    "dados_portugues = pd.read_csv(\"dataset/stackoverflow_portugues.csv\")\n",
    "dados_ingles = pd.read_csv(\"dataset/stackoverflow_ingles.csv\")\n",
    "dados_espanhol = pd.read_csv(\"dataset/stackoverflow_espanhol.csv\")\n",
    "\n",
    "dados_portugues"
   ]
  },
  {
   "cell_type": "markdown",
   "id": "3715b5a3-ee9c-49ce-85c1-600d4e5ab843",
   "metadata": {},
   "source": [
    "# Testando a biblioteca"
   ]
  },
  {
   "cell_type": "code",
   "execution_count": 2,
   "id": "da4e107c-3580-4d02-b1cf-4bf64535de1f",
   "metadata": {},
   "outputs": [
    {
     "data": {
      "text/plain": [
       "\"<p>Desenvolvi uma página em PHP para uso interno da empresa que trabalho e apenas pouquíssimas pessoas a utilizam. Através dessa página é possível fazer algumas consultas, inserções, alterações e remoções de dados de uma tabela em um banco de dados MySQL, porém eu acredito que meu código em PHP não está protegido contra injeção de código SQL, por exemplo:</p>\\n\\n<pre><code>//----CONSULTA SQL----//\\n$busca = mysql_query ('insert into Produtos (coluna) values(' . $valor . ')');\\n</code></pre>\\n\\n<p>Logo, digamos que o usuário usar a sentença: <code>1); DROP TABLE Produtos;</code> para ao campo <code>valor</code> o comando ficaria: </p>\\n\\n<pre><code>insert into Produtos (coluna) values(1); DROP TABLE Produtos;\\n</code></pre>\\n\\n<p>Ele vai inserir um novo registro cujo o campo <code>coluna</code> será <code>1</code> e logo em seguida ele vai deletar a tabela Produtos.</p>\\n\\n<p>Como posso melhorar meu código para prevenir essa situação?</p>\\n\""
      ]
     },
     "execution_count": 2,
     "metadata": {},
     "output_type": "execute_result"
    }
   ],
   "source": [
    "dados_portugues.Questão[5]"
   ]
  },
  {
   "cell_type": "code",
   "execution_count": 3,
   "id": "4ed2d5b1-512a-4e48-9813-781ae82e4260",
   "metadata": {},
   "outputs": [
    {
     "data": {
      "text/plain": [
       "['Desenvolvi uma página em PHP para uso interno da empresa que trabalho e apenas pouquíssimas pessoas a utilizam. Através dessa página é possível fazer algumas consultas, inserções, alterações e remoções de dados de uma tabela em um banco de dados MySQL, porém eu acredito que meu código em PHP não está protegido contra injeção de código SQL, por exemplo:',\n",
       " 'Logo, digamos que o usuário usar a sentença: <code>1); DROP TABLE Produtos;</code> para ao campo <code>valor</code> o comando ficaria: ',\n",
       " 'Ele vai inserir um novo registro cujo o campo <code>coluna</code> será <code>1</code> e logo em seguida ele vai deletar a tabela Produtos.',\n",
       " 'Como posso melhorar meu código para prevenir essa situação?']"
      ]
     },
     "execution_count": 3,
     "metadata": {},
     "output_type": "execute_result"
    }
   ],
   "source": [
    "re.findall(r\"<p>(.*)</p>\", dados_portugues.Questão[5])"
   ]
  },
  {
   "cell_type": "code",
   "execution_count": 4,
   "id": "1207774a-4998-49ca-ac5e-bdc5fe30acb5",
   "metadata": {},
   "outputs": [
    {
     "data": {
      "text/plain": [
       "\"Desenvolvi uma página em PHP para uso interno da empresa que trabalho e apenas pouquíssimas pessoas a utilizam. Através dessa página é possível fazer algumas consultas, inserções, alterações e remoções de dados de uma tabela em um banco de dados MySQL, porém eu acredito que meu código em PHP não está protegido contra injeção de código SQL, por exemplo:\\n\\n//----CONSULTA SQL----//\\n$busca = mysql_query ('insert into Produtos (coluna) values(' . $valor . ')');\\n\\n\\nLogo, digamos que o usuário usar a sentença: 1); DROP TABLE Produtos; para ao campo valor o comando ficaria: \\n\\ninsert into Produtos (coluna) values(1); DROP TABLE Produtos;\\n\\n\\nEle vai inserir um novo registro cujo o campo coluna será 1 e logo em seguida ele vai deletar a tabela Produtos.\\n\\nComo posso melhorar meu código para prevenir essa situação?\\n\""
      ]
     },
     "execution_count": 4,
     "metadata": {},
     "output_type": "execute_result"
    }
   ],
   "source": [
    "re.sub(r\"<.*?>\", \"\", dados_portugues.Questão[5])"
   ]
  },
  {
   "cell_type": "code",
   "execution_count": 5,
   "id": "492238c8-6671-4484-b72d-26cf3d2cb802",
   "metadata": {},
   "outputs": [
    {
     "data": {
      "text/plain": [
       "['Desenvolvi uma página em PHP para uso interno da empresa que trabalho e apenas pouquíssimas pessoas a utilizam. Através dessa página é possível fazer algumas consultas, inserções, alterações e remoções de dados de uma tabela em um banco de dados MySQL, porém eu acredito que meu código em PHP não está protegido contra injeção de código SQL, por exemplo:',\n",
       " 'Logo, digamos que o usuário usar a sentença: <code>1); DROP TABLE Produtos;</code> para ao campo <code>valor</code> o comando ficaria: ',\n",
       " 'Ele vai inserir um novo registro cujo o campo <code>coluna</code> será <code>1</code> e logo em seguida ele vai deletar a tabela Produtos.',\n",
       " 'Como posso melhorar meu código para prevenir essa situação?']"
      ]
     },
     "execution_count": 5,
     "metadata": {},
     "output_type": "execute_result"
    }
   ],
   "source": [
    "REGEX = re.compile(r\"<p>(.*)</p>\")\n",
    "REGEX.findall(dados_portugues.Questão[5])"
   ]
  },
  {
   "cell_type": "markdown",
   "id": "b5c46466-6604-4f8c-bd0a-9aa947482d3c",
   "metadata": {},
   "source": [
    "# Tratamento dos dados"
   ]
  },
  {
   "cell_type": "markdown",
   "id": "f021d537-3073-47cb-89c4-2780504cdc2a",
   "metadata": {},
   "source": [
    "## Removendo TAGS e coletando apenas o texto desejado"
   ]
  },
  {
   "cell_type": "code",
   "execution_count": 6,
   "id": "e801fef1-ed04-4750-ba1a-6c5a480b719b",
   "metadata": {},
   "outputs": [
    {
     "data": {
      "text/plain": [
       "0    Se eu fizer o hash de senhas antes de armazená...\n",
       "1    Qual é a diferença entre INNER JOIN e OUTER JO...\n",
       "2    Uma dúvida muito comum é por que devemos parar...\n",
       "3    É comum encontrar uma mensagem de erro que diz...\n",
       "4    Me parecem termos muito próximos e eventualmen...\n",
       "dtype: object"
      ]
     },
     "execution_count": 6,
     "metadata": {},
     "output_type": "execute_result"
    }
   ],
   "source": [
    "def retorna_paragrafos(textos):\n",
    "    RETORNA_PARAGRAFO = re.compile(r\"<p>(.*)</p>\")\n",
    "    if type(textos) == str:\n",
    "        return \" \".join(RETORNA_PARAGRAFO.findall(textos))\n",
    "    else:\n",
    "        return pd.Series([\" \".join(RETORNA_PARAGRAFO.findall(texto)) for texto in textos])\n",
    "\n",
    "def remove_tags(textos):\n",
    "    REMOVE_TAGS = re.compile(r\"<.*?>\")\n",
    "    if type(textos) == str:\n",
    "        return REMOVE_TAGS.sub(\"\", textos)\n",
    "    else:\n",
    "        return pd.Series([REMOVE_TAGS.sub(\"\", texto) for texto in textos])\n",
    "\n",
    "\n",
    "questoes_tratadas_portugues = remove_tags(retorna_paragrafos(dados_portugues.Questão.copy() ) )\n",
    "questoes_tratadas_ingles = remove_tags(retorna_paragrafos(dados_ingles.Questão.copy() ) )\n",
    "questoes_tratadas_espanhol = remove_tags(retorna_paragrafos(dados_espanhol.Questão.copy() ) )\n",
    "\n",
    "questoes_tratadas_portugues.head()"
   ]
  },
  {
   "cell_type": "code",
   "execution_count": 7,
   "id": "76605543-916c-4a36-b52e-e3f08a8d7837",
   "metadata": {},
   "outputs": [
    {
     "data": {
      "text/html": [
       "<div>\n",
       "<style scoped>\n",
       "    .dataframe tbody tr th:only-of-type {\n",
       "        vertical-align: middle;\n",
       "    }\n",
       "\n",
       "    .dataframe tbody tr th {\n",
       "        vertical-align: top;\n",
       "    }\n",
       "\n",
       "    .dataframe thead th {\n",
       "        text-align: right;\n",
       "    }\n",
       "</style>\n",
       "<table border=\"1\" class=\"dataframe\">\n",
       "  <thead>\n",
       "    <tr style=\"text-align: right;\">\n",
       "      <th></th>\n",
       "      <th>Id</th>\n",
       "      <th>Título</th>\n",
       "      <th>Questão</th>\n",
       "      <th>Tags</th>\n",
       "      <th>Pontuação</th>\n",
       "      <th>Visualizações</th>\n",
       "      <th>Questão_Tratada</th>\n",
       "    </tr>\n",
       "  </thead>\n",
       "  <tbody>\n",
       "    <tr>\n",
       "      <th>0</th>\n",
       "      <td>2402</td>\n",
       "      <td>Como fazer hash de senhas de forma segura?</td>\n",
       "      <td>&lt;p&gt;Se eu fizer o &lt;em&gt;&lt;a href=\"http://pt.wikipe...</td>\n",
       "      <td>&lt;hash&gt;&lt;segurança&gt;&lt;senhas&gt;&lt;criptografia&gt;</td>\n",
       "      <td>350</td>\n",
       "      <td>22367</td>\n",
       "      <td>Se eu fizer o hash de senhas antes de armazená...</td>\n",
       "    </tr>\n",
       "    <tr>\n",
       "      <th>1</th>\n",
       "      <td>6441</td>\n",
       "      <td>Qual é a diferença entre INNER JOIN e OUTER JOIN?</td>\n",
       "      <td>&lt;p&gt;Qual é a diferença entre &lt;code&gt;INNER JOIN&lt;/...</td>\n",
       "      <td>&lt;sql&gt;&lt;join&gt;</td>\n",
       "      <td>276</td>\n",
       "      <td>176953</td>\n",
       "      <td>Qual é a diferença entre INNER JOIN e OUTER JO...</td>\n",
       "    </tr>\n",
       "    <tr>\n",
       "      <th>2</th>\n",
       "      <td>579</td>\n",
       "      <td>Por que não devemos usar funções do tipo mysql_*?</td>\n",
       "      <td>&lt;p&gt;Uma dúvida muito comum é por que devemos pa...</td>\n",
       "      <td>&lt;php&gt;&lt;mysql&gt;</td>\n",
       "      <td>226</td>\n",
       "      <td>9761</td>\n",
       "      <td>Uma dúvida muito comum é por que devemos parar...</td>\n",
       "    </tr>\n",
       "    <tr>\n",
       "      <th>3</th>\n",
       "      <td>2539</td>\n",
       "      <td>As mensagens de erro devem se desculpar?</td>\n",
       "      <td>&lt;p&gt;É comum encontrar uma mensagem de erro que ...</td>\n",
       "      <td>&lt;aplicação-web&gt;&lt;gui&gt;&lt;console&gt;&lt;ux&gt;</td>\n",
       "      <td>214</td>\n",
       "      <td>5075</td>\n",
       "      <td>É comum encontrar uma mensagem de erro que diz...</td>\n",
       "    </tr>\n",
       "    <tr>\n",
       "      <th>4</th>\n",
       "      <td>17501</td>\n",
       "      <td>Qual é a diferença de API, biblioteca e Framew...</td>\n",
       "      <td>&lt;p&gt;Me parecem termos muito próximos e eventual...</td>\n",
       "      <td>&lt;api&gt;&lt;framework&gt;&lt;terminologia&gt;&lt;biblioteca&gt;</td>\n",
       "      <td>193</td>\n",
       "      <td>54191</td>\n",
       "      <td>Me parecem termos muito próximos e eventualmen...</td>\n",
       "    </tr>\n",
       "  </tbody>\n",
       "</table>\n",
       "</div>"
      ],
      "text/plain": [
       "      Id                                             Título  \\\n",
       "0   2402         Como fazer hash de senhas de forma segura?   \n",
       "1   6441  Qual é a diferença entre INNER JOIN e OUTER JOIN?   \n",
       "2    579  Por que não devemos usar funções do tipo mysql_*?   \n",
       "3   2539           As mensagens de erro devem se desculpar?   \n",
       "4  17501  Qual é a diferença de API, biblioteca e Framew...   \n",
       "\n",
       "                                             Questão  \\\n",
       "0  <p>Se eu fizer o <em><a href=\"http://pt.wikipe...   \n",
       "1  <p>Qual é a diferença entre <code>INNER JOIN</...   \n",
       "2  <p>Uma dúvida muito comum é por que devemos pa...   \n",
       "3  <p>É comum encontrar uma mensagem de erro que ...   \n",
       "4  <p>Me parecem termos muito próximos e eventual...   \n",
       "\n",
       "                                         Tags  Pontuação  Visualizações  \\\n",
       "0     <hash><segurança><senhas><criptografia>        350          22367   \n",
       "1                                 <sql><join>        276         176953   \n",
       "2                                <php><mysql>        226           9761   \n",
       "3           <aplicação-web><gui><console><ux>        214           5075   \n",
       "4  <api><framework><terminologia><biblioteca>        193          54191   \n",
       "\n",
       "                                     Questão_Tratada  \n",
       "0  Se eu fizer o hash de senhas antes de armazená...  \n",
       "1  Qual é a diferença entre INNER JOIN e OUTER JO...  \n",
       "2  Uma dúvida muito comum é por que devemos parar...  \n",
       "3  É comum encontrar uma mensagem de erro que diz...  \n",
       "4  Me parecem termos muito próximos e eventualmen...  "
      ]
     },
     "execution_count": 7,
     "metadata": {},
     "output_type": "execute_result"
    }
   ],
   "source": [
    "dados_portugues[\"Questão_Tratada\"] = questoes_tratadas_portugues\n",
    "dados_ingles[\"Questão_Tratada\"] = questoes_tratadas_ingles\n",
    "dados_espanhol[\"Questão_Tratada\"] = questoes_tratadas_espanhol\n",
    "\n",
    "dados_portugues.head()"
   ]
  },
  {
   "cell_type": "markdown",
   "id": "15880310-9130-465f-aaea-5c62c80b8671",
   "metadata": {},
   "source": [
    "## Removendo pontuações e tornando tudo minúsculo"
   ]
  },
  {
   "cell_type": "code",
   "execution_count": 8,
   "id": "39de6957-45ee-46e2-a58d-78efe7a46fc8",
   "metadata": {},
   "outputs": [
    {
     "data": {
      "text/plain": [
       "'Las sentencias dinámicas son sentencias SQL que se crean como cadenas de texto (strings) y en las que se insertan/concatenan valores obtenidos de alguna fuente (normalmente proveniente del usuario), lo que puede hacer que sean vulnerables a inyección SQL si no se sanean las entradas, como por ejemplo: Eso es un ejemplo de una vulnerabilidad grave en la seguridad de una aplicación (web o no) porque si el usuario introdujese un valor como 1; DROP TABLE usuarios;-- nos encontraríamos con que la sentencia ejecutada sería: Y se eliminaría la tabla Usuarios con todos los datos contenidos en ella.  ¿Cómo puedo evitar que la inyección SQL ocurra en PHP?'"
      ]
     },
     "execution_count": 8,
     "metadata": {},
     "output_type": "execute_result"
    }
   ],
   "source": [
    "questoes_tratadas_espanhol[0]"
   ]
  },
  {
   "cell_type": "code",
   "execution_count": 9,
   "id": "00c32f60-b6d0-47d9-b9b0-fb661ec47576",
   "metadata": {},
   "outputs": [
    {
     "data": {
      "text/plain": [
       "'las sentencias dinámicas son sentencias sql que se crean como cadenas de texto strings y en las que se insertan concatenan valores obtenidos de alguna fuente normalmente proveniente del usuario lo que puede hacer que sean vulnerables a inyección sql si no se sanean las entradas como por ejemplo eso es un ejemplo de una vulnerabilidad grave en la seguridad de una aplicación web o no porque si el usuario introdujese un valor como   drop table usuarios nos encontraríamos con que la sentencia ejecutada sería y se eliminaría la tabla usuarios con todos los datos contenidos en ella cómo puedo evitar que la inyección sql ocurra en php'"
      ]
     },
     "execution_count": 9,
     "metadata": {},
     "output_type": "execute_result"
    }
   ],
   "source": [
    "def remove_pontuacao(textos):\n",
    "    REMOVE_PONTUACAO = re.compile(r\"\\w+\")\n",
    "    if type(textos) == str:\n",
    "        return \" \".join(REMOVE_PONTUACAO.findall(textos))\n",
    "    else:\n",
    "        return pd.Series([\" \".join(REMOVE_PONTUACAO.findall(texto)).lower() for texto in textos])\n",
    "\n",
    "def remove_digitos(textos):\n",
    "    REMOVE_DIGITOS = re.compile(r\"[\\D ]+\")\n",
    "    if type(textos) == str:\n",
    "        return \" \".join(REMOVE_DIGITOS.findall(textos))\n",
    "    else:\n",
    "        return pd.Series([\" \".join(REMOVE_DIGITOS.findall(texto)).lower() for texto in textos])\n",
    "        \n",
    "dados_portugues[\"Questão_Tratada\"] = remove_digitos( remove_pontuacao(dados_portugues[\"Questão_Tratada\"]) )\n",
    "dados_ingles[\"Questão_Tratada\"] = remove_digitos( remove_pontuacao(dados_ingles[\"Questão_Tratada\"]) )\n",
    "dados_espanhol[\"Questão_Tratada\"] = remove_digitos( remove_pontuacao(dados_espanhol[\"Questão_Tratada\"]) )\n",
    "\n",
    "dados_espanhol[\"Questão_Tratada\"][0]"
   ]
  },
  {
   "cell_type": "markdown",
   "id": "f25f192d-4fe0-4773-84d9-8cf242da0caa",
   "metadata": {},
   "source": [
    "# Dataset final"
   ]
  },
  {
   "cell_type": "code",
   "execution_count": 10,
   "id": "edcc2d8f-c626-4a65-9e08-9099ee99b585",
   "metadata": {},
   "outputs": [],
   "source": [
    "dados_portugues[\"Idioma\"] = \"Português\"\n",
    "dados_ingles[\"Idioma\"] = \"Inglês\"\n",
    "dados_espanhol[\"Idioma\"] = \"Espanhol\"\n"
   ]
  },
  {
   "cell_type": "code",
   "execution_count": 11,
   "id": "93dbccc7-b191-4f27-a206-b9921a11116b",
   "metadata": {},
   "outputs": [],
   "source": [
    "df_final = pd.concat([dados_portugues, dados_ingles, dados_espanhol])"
   ]
  },
  {
   "cell_type": "code",
   "execution_count": 12,
   "id": "a0ab1861-1b19-460c-9969-1760ac5c7051",
   "metadata": {},
   "outputs": [
    {
     "data": {
      "text/plain": [
       "(400,)"
      ]
     },
     "execution_count": 12,
     "metadata": {},
     "output_type": "execute_result"
    }
   ],
   "source": [
    "from sklearn.model_selection import train_test_split\n",
    "\n",
    "port_treino, port_test = train_test_split(dados_portugues.Questão_Tratada, \n",
    "                                          test_size = 0.2,\n",
    "                                          random_state = 23)\n",
    "\n",
    "ing_treino, ing_test = train_test_split(dados_ingles.Questão_Tratada, \n",
    "                                          test_size = 0.2,\n",
    "                                          random_state = 23)\n",
    "\n",
    "esp_treino, esp_test = train_test_split(dados_espanhol.Questão_Tratada, \n",
    "                                          test_size = 0.2,\n",
    "                                          random_state = 23)\n",
    "\n",
    "port_treino.shape"
   ]
  },
  {
   "cell_type": "code",
   "execution_count": 13,
   "id": "acd9953b-15f2-4725-8dc9-8a3cb3519a5d",
   "metadata": {},
   "outputs": [],
   "source": [
    "from nltk.tokenize import WhitespaceTokenizer\n",
    "from nltk.lm.preprocessing import padded_everygram_pipeline\n",
    "\n",
    "tokens_port = WhitespaceTokenizer().tokenize( \" \".join(port_treino) )\n",
    "\n",
    "port_treino_bigram, vocab_port = padded_everygram_pipeline(2, tokens_port)"
   ]
  },
  {
   "cell_type": "markdown",
   "id": "4e2bd8e0-8fe1-47f9-bcad-a0d9ed66ad54",
   "metadata": {},
   "source": [
    "## Modelo MLE"
   ]
  },
  {
   "cell_type": "code",
   "execution_count": 14,
   "id": "bc43aff9-c30b-438a-8c6d-e39bda260386",
   "metadata": {},
   "outputs": [],
   "source": [
    "from nltk.lm import MLE\n",
    "\n",
    "modelo_port = MLE(2)\n",
    "modelo_port.fit(port_treino_bigram, vocab_port)"
   ]
  },
  {
   "cell_type": "code",
   "execution_count": 15,
   "id": "695b18e2-006c-4a10-a872-bd45b6a98616",
   "metadata": {},
   "outputs": [
    {
     "data": {
      "text/plain": [
       "['m', 'o', '</s>', 'e', '</s>', 'r']"
      ]
     },
     "execution_count": 15,
     "metadata": {},
     "output_type": "execute_result"
    }
   ],
   "source": [
    "modelo_port.generate(num_words = 6)"
   ]
  },
  {
   "cell_type": "code",
   "execution_count": 16,
   "id": "d8f26584-dd0a-427d-9e9e-83d61aa9081f",
   "metadata": {},
   "outputs": [
    {
     "data": {
      "text/plain": [
       "dict_items([('a', 1768), ('</s>', 2262), ('i', 215), ('e', 1219), ('u', 191), ('p', 588), ('é', 68), ('o', 738), ('ã', 2), ('á', 40), ('b', 113), ('y', 20), ('ó', 32), ('l', 17), ('m', 17), ('í', 12), ('v', 18), ('g', 4), ('ú', 6), ('s', 8), ('_', 1), ('d', 2), ('â', 7)])"
      ]
     },
     "execution_count": 16,
     "metadata": {},
     "output_type": "execute_result"
    }
   ],
   "source": [
    "from nltk.lm import NgramCounter\n",
    "\n",
    "modelo_port.counts[[\"m\"]].items()"
   ]
  },
  {
   "cell_type": "code",
   "execution_count": 17,
   "id": "149e172d-5db8-46a9-b9d4-573d3d22c768",
   "metadata": {},
   "outputs": [
    {
     "data": {
      "text/plain": [
       "[[('<s>', 'b'), ('b', 'o'), ('o', 'm'), ('m', '</s>')],\n",
       " [('<s>', 'd'), ('d', 'i'), ('i', 'a'), ('a', '</s>')]]"
      ]
     },
     "execution_count": 17,
     "metadata": {},
     "output_type": "execute_result"
    }
   ],
   "source": [
    "texto = \"bom dia\"\n",
    "\n",
    "tokens_texto = WhitespaceTokenizer().tokenize( texto )\n",
    "port_treino_bigram, vocab_port = padded_everygram_pipeline(2, tokens_texto)\n",
    "palavras_bigram = list( map(list, port_treino_bigram) )\n",
    "palavras_bigram = [aux[1::2] for aux in palavras_bigram]\n",
    "palavras_bigram"
   ]
  },
  {
   "cell_type": "code",
   "execution_count": 18,
   "id": "09820674-dd81-4b0e-b0f2-47716feaaf01",
   "metadata": {},
   "outputs": [
    {
     "name": "stdout",
     "output_type": "stream",
     "text": [
      "14.852928835451554\n",
      "7.927408876852863\n"
     ]
    }
   ],
   "source": [
    "print(modelo_port.perplexity(palavras_bigram[0]))\n",
    "print(modelo_port.perplexity(palavras_bigram[1]))"
   ]
  },
  {
   "cell_type": "code",
   "execution_count": 19,
   "id": "b56aa648-7828-4b9b-b09e-3657a643fdac",
   "metadata": {},
   "outputs": [],
   "source": [
    "def treinar_modelo_mle(lista_textos):\n",
    "    todos_os_textos = \" \".join(lista_textos)\n",
    "    tokens_palavras = WhitespaceTokenizer().tokenize( todos_os_textos )\n",
    "    bigrams, vocab = padded_everygram_pipeline(2, tokens_palavras)\n",
    "    modelo = MLE(2)\n",
    "    modelo.fit(bigrams, vocab)\n",
    "    return modelo\n",
    "\n",
    "modelo_portugues = treinar_modelo_mle( port_treino )\n",
    "modelo_ingles = treinar_modelo_mle( ing_treino )\n",
    "modelo_espanhol = treinar_modelo_mle( esp_treino )\n",
    "\n"
   ]
  },
  {
   "cell_type": "code",
   "execution_count": 63,
   "id": "4ea0d411-a4b1-474f-a9e1-e694a8a967bc",
   "metadata": {},
   "outputs": [
    {
     "name": "stdout",
     "output_type": "stream",
     "text": [
      "8.929482634127393\n",
      "13.859901477110867\n",
      "10.27675728815525\n"
     ]
    }
   ],
   "source": [
    "def calcular_perplexidade(modelo, texto, debug = False):\n",
    "\n",
    "    perplexidade = 0\n",
    "    lista_perplexidades = []\n",
    "    tokens_texto = WhitespaceTokenizer().tokenize( texto )\n",
    "    port_treino_bigram, vocab_port = padded_everygram_pipeline(2, tokens_texto)\n",
    "    palavras_bigram = list( map(list, port_treino_bigram) )\n",
    "    palavras_bigram = [aux[1::2] for aux in palavras_bigram]\n",
    "\n",
    "    for palavra in palavras_bigram:\n",
    "        perplexidade += modelo.perplexity(palavra)\n",
    "        lista_perplexidades.append( [  \"\".join(map(lambda x: x[1], palavra[:-1]))  , modelo.perplexity(palavra)] )\n",
    "\n",
    "    if debug: return pd.DataFrame(lista_perplexidades, columns = [\"Palavra\", \"Perplexidade\"])\n",
    "    return pd.DataFrame(lista_perplexidades, columns = [\"Palavra\", \"Perplexidade\"])[\"Perplexidade\"].median()\n",
    "\n",
    "print(calcular_perplexidade(modelo_portugues, port_test.iloc[0] ))\n",
    "print(calcular_perplexidade(modelo_ingles, port_test.iloc[0] ))\n",
    "print(calcular_perplexidade(modelo_espanhol, port_test.iloc[0] ))"
   ]
  },
  {
   "cell_type": "code",
   "execution_count": 64,
   "id": "789458fd-f18e-4b14-a6f7-5ef18d482958",
   "metadata": {},
   "outputs": [
    {
     "name": "stdout",
     "output_type": "stream",
     "text": [
      "9.02419856223766\n",
      "13.898129079600626\n",
      "10.299996655306252\n"
     ]
    }
   ],
   "source": [
    "from nltk.lm import Laplace\n",
    "\n",
    "def treinar_modelo_laplace(lista_textos):\n",
    "    todos_os_textos = \" \".join(lista_textos)\n",
    "    tokens_palavras = WhitespaceTokenizer().tokenize( todos_os_textos )\n",
    "    bigrams, vocab = padded_everygram_pipeline(2, tokens_palavras)\n",
    "    modelo = Laplace(2)\n",
    "    modelo.fit(bigrams, vocab)\n",
    "    return modelo\n",
    "\n",
    "modelo_portugues_laplace = treinar_modelo_laplace( port_treino )\n",
    "modelo_ingles_laplace = treinar_modelo_laplace( ing_treino )\n",
    "modelo_espanhol_laplace = treinar_modelo_laplace( esp_treino )\n",
    "\n",
    "print(calcular_perplexidade(modelo_portugues_laplace, port_test.iloc[0] ))\n",
    "print(calcular_perplexidade(modelo_ingles_laplace, port_test.iloc[0] ))\n",
    "print(calcular_perplexidade(modelo_espanhol_laplace, port_test.iloc[0] ))"
   ]
  },
  {
   "cell_type": "code",
   "execution_count": 68,
   "id": "95026aec-b748-464e-b30e-96ea2f0d8674",
   "metadata": {},
   "outputs": [
    {
     "data": {
      "text/plain": [
       "10    Português\n",
       "dtype: object"
      ]
     },
     "execution_count": 68,
     "metadata": {},
     "output_type": "execute_result"
    }
   ],
   "source": [
    "def atribuir_idioma(lista_textos):\n",
    "    idiomas = []\n",
    "    for texto in lista_textos:\n",
    "        score_portugues = calcular_perplexidade(modelo_portugues_laplace, texto)\n",
    "        score_ingles = calcular_perplexidade(modelo_ingles_laplace, texto)\n",
    "        score_espanhol = calcular_perplexidade(modelo_espanhol_laplace, texto)\n",
    "\n",
    "        idx = np.argmin( [score_portugues, score_ingles, score_espanhol] )\n",
    "        idiomas.append( [\"Português\", \"Inglês\", \"Espanhol\"][idx] )\n",
    "\n",
    "    return pd.Series(idiomas)\n",
    "\n",
    "idiomas_port_test = atribuir_idioma(port_test)\n",
    "idiomas_esp_test = atribuir_idioma(esp_test)\n",
    "idiomas_ing_test = atribuir_idioma(ing_test)\n",
    "\n",
    "idiomas_ing_test[ idiomas_ing_test != \"Inglês\" ]"
   ]
  },
  {
   "cell_type": "code",
   "execution_count": 69,
   "id": "0509a766-d349-4e87-9fac-3e1a3540f25b",
   "metadata": {},
   "outputs": [
    {
     "data": {
      "text/plain": [
       "''"
      ]
     },
     "execution_count": 69,
     "metadata": {},
     "output_type": "execute_result"
    }
   ],
   "source": [
    "ing_test.iloc[10]"
   ]
  },
  {
   "cell_type": "code",
   "execution_count": 59,
   "id": "0a5a68e6-0a38-4d7d-9c93-f138636fabca",
   "metadata": {},
   "outputs": [
    {
     "data": {
      "text/html": [
       "<div>\n",
       "<style scoped>\n",
       "    .dataframe tbody tr th:only-of-type {\n",
       "        vertical-align: middle;\n",
       "    }\n",
       "\n",
       "    .dataframe tbody tr th {\n",
       "        vertical-align: top;\n",
       "    }\n",
       "\n",
       "    .dataframe thead th {\n",
       "        text-align: right;\n",
       "    }\n",
       "</style>\n",
       "<table border=\"1\" class=\"dataframe\">\n",
       "  <thead>\n",
       "    <tr style=\"text-align: right;\">\n",
       "      <th></th>\n",
       "      <th>Perplexidade</th>\n",
       "    </tr>\n",
       "  </thead>\n",
       "  <tbody>\n",
       "    <tr>\n",
       "      <th>count</th>\n",
       "      <td>81.000000</td>\n",
       "    </tr>\n",
       "    <tr>\n",
       "      <th>mean</th>\n",
       "      <td>24.241075</td>\n",
       "    </tr>\n",
       "    <tr>\n",
       "      <th>std</th>\n",
       "      <td>67.532989</td>\n",
       "    </tr>\n",
       "    <tr>\n",
       "      <th>min</th>\n",
       "      <td>4.021327</td>\n",
       "    </tr>\n",
       "    <tr>\n",
       "      <th>25%</th>\n",
       "      <td>7.353549</td>\n",
       "    </tr>\n",
       "    <tr>\n",
       "      <th>50%</th>\n",
       "      <td>10.117179</td>\n",
       "    </tr>\n",
       "    <tr>\n",
       "      <th>75%</th>\n",
       "      <td>13.883566</td>\n",
       "    </tr>\n",
       "    <tr>\n",
       "      <th>max</th>\n",
       "      <td>439.957235</td>\n",
       "    </tr>\n",
       "  </tbody>\n",
       "</table>\n",
       "</div>"
      ],
      "text/plain": [
       "       Perplexidade\n",
       "count     81.000000\n",
       "mean      24.241075\n",
       "std       67.532989\n",
       "min        4.021327\n",
       "25%        7.353549\n",
       "50%       10.117179\n",
       "75%       13.883566\n",
       "max      439.957235"
      ]
     },
     "execution_count": 59,
     "metadata": {},
     "output_type": "execute_result"
    }
   ],
   "source": [
    "valores_perplexidade = calcular_perplexidade(modelo_espanhol_laplace, esp_test.iloc[14], debug = True)\n",
    "valores_perplexidade.sort_values(by = \"Perplexidade\", ascending = False).describe()"
   ]
  },
  {
   "cell_type": "code",
   "execution_count": 60,
   "id": "a9d1d835-2404-4265-ae5f-ec32755883b7",
   "metadata": {},
   "outputs": [
    {
     "data": {
      "text/html": [
       "<div>\n",
       "<style scoped>\n",
       "    .dataframe tbody tr th:only-of-type {\n",
       "        vertical-align: middle;\n",
       "    }\n",
       "\n",
       "    .dataframe tbody tr th {\n",
       "        vertical-align: top;\n",
       "    }\n",
       "\n",
       "    .dataframe thead th {\n",
       "        text-align: right;\n",
       "    }\n",
       "</style>\n",
       "<table border=\"1\" class=\"dataframe\">\n",
       "  <thead>\n",
       "    <tr style=\"text-align: right;\">\n",
       "      <th></th>\n",
       "      <th>Perplexidade</th>\n",
       "    </tr>\n",
       "  </thead>\n",
       "  <tbody>\n",
       "    <tr>\n",
       "      <th>count</th>\n",
       "      <td>81.000000</td>\n",
       "    </tr>\n",
       "    <tr>\n",
       "      <th>mean</th>\n",
       "      <td>23.063099</td>\n",
       "    </tr>\n",
       "    <tr>\n",
       "      <th>std</th>\n",
       "      <td>32.673670</td>\n",
       "    </tr>\n",
       "    <tr>\n",
       "      <th>min</th>\n",
       "      <td>4.254333</td>\n",
       "    </tr>\n",
       "    <tr>\n",
       "      <th>25%</th>\n",
       "      <td>8.983896</td>\n",
       "    </tr>\n",
       "    <tr>\n",
       "      <th>50%</th>\n",
       "      <td>11.289533</td>\n",
       "    </tr>\n",
       "    <tr>\n",
       "      <th>75%</th>\n",
       "      <td>17.613392</td>\n",
       "    </tr>\n",
       "    <tr>\n",
       "      <th>max</th>\n",
       "      <td>165.093728</td>\n",
       "    </tr>\n",
       "  </tbody>\n",
       "</table>\n",
       "</div>"
      ],
      "text/plain": [
       "       Perplexidade\n",
       "count     81.000000\n",
       "mean      23.063099\n",
       "std       32.673670\n",
       "min        4.254333\n",
       "25%        8.983896\n",
       "50%       11.289533\n",
       "75%       17.613392\n",
       "max      165.093728"
      ]
     },
     "execution_count": 60,
     "metadata": {},
     "output_type": "execute_result"
    }
   ],
   "source": [
    "valores_perplexidade = calcular_perplexidade(modelo_portugues_laplace, esp_test.iloc[14], debug = True)\n",
    "valores_perplexidade.sort_values(by = \"Perplexidade\", ascending = False).describe()"
   ]
  }
 ],
 "metadata": {
  "kernelspec": {
   "display_name": "Python 3 (ipykernel)",
   "language": "python",
   "name": "python3"
  },
  "language_info": {
   "codemirror_mode": {
    "name": "ipython",
    "version": 3
   },
   "file_extension": ".py",
   "mimetype": "text/x-python",
   "name": "python",
   "nbconvert_exporter": "python",
   "pygments_lexer": "ipython3",
   "version": "3.11.7"
  }
 },
 "nbformat": 4,
 "nbformat_minor": 5
}
